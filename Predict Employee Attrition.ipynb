{
 "cells": [
  {
   "cell_type": "markdown",
   "id": "62984af9-ce19-49ca-96b0-29747e022ee0",
   "metadata": {},
   "source": [
    "# **Improving Employee Retention by Predicting Employee Attrition Using Machine Learning**"
   ]
  },
  {
   "cell_type": "markdown",
   "id": "009bdd19-6d6e-4055-82dc-91ab739ad833",
   "metadata": {},
   "source": [
    "# **Load Dataset**\n",
    "---"
   ]
  },
  {
   "cell_type": "code",
   "execution_count": 1,
   "id": "7e70784d-6258-4088-b67c-75cea1341200",
   "metadata": {},
   "outputs": [],
   "source": [
    "# import library\n",
    "import pandas as pd \n",
    "import numpy as np\n",
    "import seaborn as sns\n",
    "import matplotlib.pyplot as plt \n",
    "%matplotlib inline\n",
    "import warnings\n",
    "warnings.filterwarnings(\"ignore\")"
   ]
  },
  {
   "cell_type": "code",
   "execution_count": 2,
   "id": "b06a539a-99b7-4624-ad71-2d130adb6fee",
   "metadata": {},
   "outputs": [],
   "source": [
    "# read dataset\n",
    "read = pd.read_csv('hr_data.csv')"
   ]
  },
  {
   "cell_type": "code",
   "execution_count": 3,
   "id": "941add30-232c-4935-ab8d-8d26cdb5c9f1",
   "metadata": {},
   "outputs": [],
   "source": [
    "df = read.copy()"
   ]
  },
  {
   "cell_type": "markdown",
   "id": "359f8bd7-fd5c-46df-9705-32ecbd111607",
   "metadata": {},
   "source": [
    "# **Overview Dataset**\n",
    "---"
   ]
  },
  {
   "cell_type": "markdown",
   "id": "b6c92a7d-2860-4cb0-8a2e-bb56b16cebbf",
   "metadata": {
    "tags": []
   },
   "source": [
    "### Check Shape and Datatype"
   ]
  },
  {
   "cell_type": "code",
   "execution_count": 4,
   "id": "37b2e3f8-41a7-443a-ad9e-5adf92a811c3",
   "metadata": {},
   "outputs": [
    {
     "name": "stdout",
     "output_type": "stream",
     "text": [
      "<class 'pandas.core.frame.DataFrame'>\n",
      "RangeIndex: 287 entries, 0 to 286\n",
      "Data columns (total 25 columns):\n",
      " #   Column                              Non-Null Count  Dtype  \n",
      "---  ------                              --------------  -----  \n",
      " 0   Username                            287 non-null    object \n",
      " 1   EnterpriseID                        287 non-null    int64  \n",
      " 2   StatusPernikahan                    287 non-null    object \n",
      " 3   JenisKelamin                        287 non-null    object \n",
      " 4   StatusKepegawaian                   287 non-null    object \n",
      " 5   Pekerjaan                           287 non-null    object \n",
      " 6   JenjangKarir                        287 non-null    object \n",
      " 7   PerformancePegawai                  287 non-null    object \n",
      " 8   AsalDaerah                          287 non-null    object \n",
      " 9   HiringPlatform                      287 non-null    object \n",
      " 10  SkorSurveyEngagement                287 non-null    int64  \n",
      " 11  SkorKepuasanPegawai                 282 non-null    float64\n",
      " 12  JumlahKeikutsertaanProjek           284 non-null    float64\n",
      " 13  JumlahKeterlambatanSebulanTerakhir  286 non-null    float64\n",
      " 14  JumlahKetidakhadiran                281 non-null    float64\n",
      " 15  NomorHP                             287 non-null    object \n",
      " 16  Email                               287 non-null    object \n",
      " 17  TingkatPendidikan                   287 non-null    object \n",
      " 18  PernahBekerja                       287 non-null    object \n",
      " 19  IkutProgramLOP                      29 non-null     float64\n",
      " 20  AlasanResign                        221 non-null    object \n",
      " 21  TanggalLahir                        287 non-null    object \n",
      " 22  TanggalHiring                       287 non-null    object \n",
      " 23  TanggalPenilaianKaryawan            287 non-null    object \n",
      " 24  TanggalResign                       287 non-null    object \n",
      "dtypes: float64(5), int64(2), object(18)\n",
      "memory usage: 56.2+ KB\n"
     ]
    }
   ],
   "source": [
    "df.info()"
   ]
  },
  {
   "cell_type": "code",
   "execution_count": 5,
   "id": "79ec6c16-ef63-4215-8f41-b07eb439281a",
   "metadata": {},
   "outputs": [
    {
     "data": {
      "text/plain": [
       "(287, 25)"
      ]
     },
     "execution_count": 5,
     "metadata": {},
     "output_type": "execute_result"
    }
   ],
   "source": [
    "# jumlah record dan feature\n",
    "df.shape"
   ]
  },
  {
   "cell_type": "markdown",
   "id": "a3d3c9e3-9972-4d8e-a7ef-377e009ffa65",
   "metadata": {},
   "source": [
    "### Check Duplicate"
   ]
  },
  {
   "cell_type": "code",
   "execution_count": 6,
   "id": "4797450b-2923-48a5-8456-367fba8783e4",
   "metadata": {},
   "outputs": [
    {
     "data": {
      "text/plain": [
       "0"
      ]
     },
     "execution_count": 6,
     "metadata": {},
     "output_type": "execute_result"
    }
   ],
   "source": [
    "# cek duplikat data\n",
    "df.duplicated().sum()"
   ]
  },
  {
   "cell_type": "markdown",
   "id": "ace9613c-73d7-4ae3-9d35-eeaa407a83a7",
   "metadata": {},
   "source": [
    "### Check Null Value"
   ]
  },
  {
   "cell_type": "code",
   "execution_count": 22,
   "id": "3fe3b6bb-688f-4396-a16d-5d9f7f96eb10",
   "metadata": {},
   "outputs": [
    {
     "data": {
      "text/html": [
       "<div>\n",
       "<style scoped>\n",
       "    .dataframe tbody tr th:only-of-type {\n",
       "        vertical-align: middle;\n",
       "    }\n",
       "\n",
       "    .dataframe tbody tr th {\n",
       "        vertical-align: top;\n",
       "    }\n",
       "\n",
       "    .dataframe thead th {\n",
       "        text-align: right;\n",
       "    }\n",
       "</style>\n",
       "<table border=\"1\" class=\"dataframe\">\n",
       "  <thead>\n",
       "    <tr style=\"text-align: right;\">\n",
       "      <th></th>\n",
       "      <th>feature</th>\n",
       "      <th>null_values</th>\n",
       "      <th>null_percentage</th>\n",
       "      <th>unique_values</th>\n",
       "      <th>unique_sample</th>\n",
       "    </tr>\n",
       "  </thead>\n",
       "  <tbody>\n",
       "    <tr>\n",
       "      <th>0</th>\n",
       "      <td>Username</td>\n",
       "      <td>0</td>\n",
       "      <td>0.00</td>\n",
       "      <td>285</td>\n",
       "      <td>[spiritedPorpoise3, jealousGelding2, pluckyMue...</td>\n",
       "    </tr>\n",
       "    <tr>\n",
       "      <th>1</th>\n",
       "      <td>EnterpriseID</td>\n",
       "      <td>0</td>\n",
       "      <td>0.00</td>\n",
       "      <td>287</td>\n",
       "      <td>[111065, 106080, 106452, 106325, 111171, 10641...</td>\n",
       "    </tr>\n",
       "    <tr>\n",
       "      <th>2</th>\n",
       "      <td>StatusPernikahan</td>\n",
       "      <td>0</td>\n",
       "      <td>0.00</td>\n",
       "      <td>5</td>\n",
       "      <td>[Belum_menikah, Menikah, Bercerai, Lainnya, -]</td>\n",
       "    </tr>\n",
       "    <tr>\n",
       "      <th>3</th>\n",
       "      <td>JenisKelamin</td>\n",
       "      <td>0</td>\n",
       "      <td>0.00</td>\n",
       "      <td>2</td>\n",
       "      <td>[Pria, Wanita]</td>\n",
       "    </tr>\n",
       "    <tr>\n",
       "      <th>4</th>\n",
       "      <td>StatusKepegawaian</td>\n",
       "      <td>0</td>\n",
       "      <td>0.00</td>\n",
       "      <td>3</td>\n",
       "      <td>[Outsource, FullTime, Internship]</td>\n",
       "    </tr>\n",
       "    <tr>\n",
       "      <th>5</th>\n",
       "      <td>Pekerjaan</td>\n",
       "      <td>0</td>\n",
       "      <td>0.00</td>\n",
       "      <td>14</td>\n",
       "      <td>[Software Engineer (Back End), Data Analyst, S...</td>\n",
       "    </tr>\n",
       "    <tr>\n",
       "      <th>6</th>\n",
       "      <td>JenjangKarir</td>\n",
       "      <td>0</td>\n",
       "      <td>0.00</td>\n",
       "      <td>3</td>\n",
       "      <td>[Freshgraduate_program, Senior_level, Mid_level]</td>\n",
       "    </tr>\n",
       "    <tr>\n",
       "      <th>7</th>\n",
       "      <td>PerformancePegawai</td>\n",
       "      <td>0</td>\n",
       "      <td>0.00</td>\n",
       "      <td>5</td>\n",
       "      <td>[Sangat_bagus, Sangat_kurang, Bagus, Biasa, Ku...</td>\n",
       "    </tr>\n",
       "    <tr>\n",
       "      <th>8</th>\n",
       "      <td>AsalDaerah</td>\n",
       "      <td>0</td>\n",
       "      <td>0.00</td>\n",
       "      <td>5</td>\n",
       "      <td>[Jakarta Timur, Jakarta Utara, Jakarta Pusat, ...</td>\n",
       "    </tr>\n",
       "    <tr>\n",
       "      <th>9</th>\n",
       "      <td>HiringPlatform</td>\n",
       "      <td>0</td>\n",
       "      <td>0.00</td>\n",
       "      <td>9</td>\n",
       "      <td>[Employee_Referral, Website, Indeed, LinkedIn,...</td>\n",
       "    </tr>\n",
       "    <tr>\n",
       "      <th>10</th>\n",
       "      <td>SkorSurveyEngagement</td>\n",
       "      <td>0</td>\n",
       "      <td>0.00</td>\n",
       "      <td>5</td>\n",
       "      <td>[4, 3, 2, 1, 5]</td>\n",
       "    </tr>\n",
       "    <tr>\n",
       "      <th>11</th>\n",
       "      <td>SkorKepuasanPegawai</td>\n",
       "      <td>5</td>\n",
       "      <td>1.74</td>\n",
       "      <td>5</td>\n",
       "      <td>[4.0, 3.0, 5.0, nan, 2.0, 1.0]</td>\n",
       "    </tr>\n",
       "    <tr>\n",
       "      <th>12</th>\n",
       "      <td>JumlahKeikutsertaanProjek</td>\n",
       "      <td>3</td>\n",
       "      <td>1.05</td>\n",
       "      <td>9</td>\n",
       "      <td>[0.0, 4.0, 6.0, nan, 7.0, 3.0, 5.0, 1.0, 2.0, ...</td>\n",
       "    </tr>\n",
       "    <tr>\n",
       "      <th>13</th>\n",
       "      <td>JumlahKeterlambatanSebulanTerakhir</td>\n",
       "      <td>1</td>\n",
       "      <td>0.35</td>\n",
       "      <td>7</td>\n",
       "      <td>[0.0, 4.0, 3.0, 5.0, 2.0, 6.0, 1.0, nan]</td>\n",
       "    </tr>\n",
       "    <tr>\n",
       "      <th>14</th>\n",
       "      <td>JumlahKetidakhadiran</td>\n",
       "      <td>6</td>\n",
       "      <td>2.09</td>\n",
       "      <td>22</td>\n",
       "      <td>[9.0, 3.0, 11.0, 6.0, 10.0, 19.0, 4.0, 5.0, 2....</td>\n",
       "    </tr>\n",
       "    <tr>\n",
       "      <th>15</th>\n",
       "      <td>NomorHP</td>\n",
       "      <td>0</td>\n",
       "      <td>0.00</td>\n",
       "      <td>287</td>\n",
       "      <td>[+6282232522xxx, +6281270745xxx, +6281346215xx...</td>\n",
       "    </tr>\n",
       "    <tr>\n",
       "      <th>16</th>\n",
       "      <td>Email</td>\n",
       "      <td>0</td>\n",
       "      <td>0.00</td>\n",
       "      <td>287</td>\n",
       "      <td>[spiritedPorpoise3135@yahoo.com, jealousGeldin...</td>\n",
       "    </tr>\n",
       "    <tr>\n",
       "      <th>17</th>\n",
       "      <td>TingkatPendidikan</td>\n",
       "      <td>0</td>\n",
       "      <td>0.00</td>\n",
       "      <td>3</td>\n",
       "      <td>[Magister, Sarjana, Doktor]</td>\n",
       "    </tr>\n",
       "    <tr>\n",
       "      <th>18</th>\n",
       "      <td>PernahBekerja</td>\n",
       "      <td>0</td>\n",
       "      <td>0.00</td>\n",
       "      <td>2</td>\n",
       "      <td>[1, yes]</td>\n",
       "    </tr>\n",
       "    <tr>\n",
       "      <th>19</th>\n",
       "      <td>IkutProgramLOP</td>\n",
       "      <td>258</td>\n",
       "      <td>89.90</td>\n",
       "      <td>2</td>\n",
       "      <td>[1.0, 0.0, nan]</td>\n",
       "    </tr>\n",
       "    <tr>\n",
       "      <th>20</th>\n",
       "      <td>AlasanResign</td>\n",
       "      <td>66</td>\n",
       "      <td>23.00</td>\n",
       "      <td>11</td>\n",
       "      <td>[masih_bekerja, toxic_culture, jam_kerja, gant...</td>\n",
       "    </tr>\n",
       "    <tr>\n",
       "      <th>21</th>\n",
       "      <td>TanggalLahir</td>\n",
       "      <td>0</td>\n",
       "      <td>0.00</td>\n",
       "      <td>284</td>\n",
       "      <td>[1972-07-01, 1984-04-26, 1974-01-07, 1979-11-2...</td>\n",
       "    </tr>\n",
       "    <tr>\n",
       "      <th>22</th>\n",
       "      <td>TanggalHiring</td>\n",
       "      <td>0</td>\n",
       "      <td>0.00</td>\n",
       "      <td>97</td>\n",
       "      <td>[2011-01-10, 2014-01-06, 2014-2-17, 2013-11-11...</td>\n",
       "    </tr>\n",
       "    <tr>\n",
       "      <th>23</th>\n",
       "      <td>TanggalPenilaianKaryawan</td>\n",
       "      <td>0</td>\n",
       "      <td>0.00</td>\n",
       "      <td>127</td>\n",
       "      <td>[2016-2-15, 2020-1-17, 2016-01-10, 2020-02-04,...</td>\n",
       "    </tr>\n",
       "    <tr>\n",
       "      <th>24</th>\n",
       "      <td>TanggalResign</td>\n",
       "      <td>0</td>\n",
       "      <td>0.00</td>\n",
       "      <td>53</td>\n",
       "      <td>[-, 2018-6-16, 2014-9-24, 2018-09-06, 2019-01-...</td>\n",
       "    </tr>\n",
       "  </tbody>\n",
       "</table>\n",
       "</div>"
      ],
      "text/plain": [
       "                               feature   null_values   null_percentage  \\\n",
       "0                             Username             0              0.00   \n",
       "1                         EnterpriseID             0              0.00   \n",
       "2                     StatusPernikahan             0              0.00   \n",
       "3                         JenisKelamin             0              0.00   \n",
       "4                    StatusKepegawaian             0              0.00   \n",
       "5                            Pekerjaan             0              0.00   \n",
       "6                         JenjangKarir             0              0.00   \n",
       "7                   PerformancePegawai             0              0.00   \n",
       "8                           AsalDaerah             0              0.00   \n",
       "9                       HiringPlatform             0              0.00   \n",
       "10                SkorSurveyEngagement             0              0.00   \n",
       "11                 SkorKepuasanPegawai             5              1.74   \n",
       "12           JumlahKeikutsertaanProjek             3              1.05   \n",
       "13  JumlahKeterlambatanSebulanTerakhir             1              0.35   \n",
       "14                JumlahKetidakhadiran             6              2.09   \n",
       "15                             NomorHP             0              0.00   \n",
       "16                               Email             0              0.00   \n",
       "17                   TingkatPendidikan             0              0.00   \n",
       "18                       PernahBekerja             0              0.00   \n",
       "19                      IkutProgramLOP           258             89.90   \n",
       "20                        AlasanResign            66             23.00   \n",
       "21                        TanggalLahir             0              0.00   \n",
       "22                       TanggalHiring             0              0.00   \n",
       "23            TanggalPenilaianKaryawan             0              0.00   \n",
       "24                       TanggalResign             0              0.00   \n",
       "\n",
       "     unique_values                                      unique_sample  \n",
       "0              285  [spiritedPorpoise3, jealousGelding2, pluckyMue...  \n",
       "1              287  [111065, 106080, 106452, 106325, 111171, 10641...  \n",
       "2                5     [Belum_menikah, Menikah, Bercerai, Lainnya, -]  \n",
       "3                2                                     [Pria, Wanita]  \n",
       "4                3                  [Outsource, FullTime, Internship]  \n",
       "5               14  [Software Engineer (Back End), Data Analyst, S...  \n",
       "6                3   [Freshgraduate_program, Senior_level, Mid_level]  \n",
       "7                5  [Sangat_bagus, Sangat_kurang, Bagus, Biasa, Ku...  \n",
       "8                5  [Jakarta Timur, Jakarta Utara, Jakarta Pusat, ...  \n",
       "9                9  [Employee_Referral, Website, Indeed, LinkedIn,...  \n",
       "10               5                                    [4, 3, 2, 1, 5]  \n",
       "11               5                     [4.0, 3.0, 5.0, nan, 2.0, 1.0]  \n",
       "12               9  [0.0, 4.0, 6.0, nan, 7.0, 3.0, 5.0, 1.0, 2.0, ...  \n",
       "13               7           [0.0, 4.0, 3.0, 5.0, 2.0, 6.0, 1.0, nan]  \n",
       "14              22  [9.0, 3.0, 11.0, 6.0, 10.0, 19.0, 4.0, 5.0, 2....  \n",
       "15             287  [+6282232522xxx, +6281270745xxx, +6281346215xx...  \n",
       "16             287  [spiritedPorpoise3135@yahoo.com, jealousGeldin...  \n",
       "17               3                        [Magister, Sarjana, Doktor]  \n",
       "18               2                                           [1, yes]  \n",
       "19               2                                    [1.0, 0.0, nan]  \n",
       "20              11  [masih_bekerja, toxic_culture, jam_kerja, gant...  \n",
       "21             284  [1972-07-01, 1984-04-26, 1974-01-07, 1979-11-2...  \n",
       "22              97  [2011-01-10, 2014-01-06, 2014-2-17, 2013-11-11...  \n",
       "23             127  [2016-2-15, 2020-1-17, 2016-01-10, 2020-02-04,...  \n",
       "24              53  [-, 2018-6-16, 2014-9-24, 2018-09-06, 2019-01-...  "
      ]
     },
     "execution_count": 22,
     "metadata": {},
     "output_type": "execute_result"
    }
   ],
   "source": [
    "# melihat ringkasan data\n",
    "list_item = []\n",
    "for col in df.columns:\n",
    "    list_item.append([col, df[col].isna().sum(), round(100*df[col].isna().sum()/len(df[col]), 2), df[col].nunique(), df[col].unique()[:10]])\n",
    "\n",
    "df_desc = pd.DataFrame(data=list_item, columns='feature, null_values, null_percentage, unique_values, unique_sample'.split(\",\"))\n",
    "df_desc"
   ]
  },
  {
   "cell_type": "code",
   "execution_count": 21,
   "id": "69f53f31-b6c4-4635-bc37-fcf95f4cc424",
   "metadata": {},
   "outputs": [
    {
     "data": {
      "text/plain": [
       "1.0    15\n",
       "0.0    14\n",
       "Name: IkutProgramLOP, dtype: int64"
      ]
     },
     "execution_count": 21,
     "metadata": {},
     "output_type": "execute_result"
    }
   ],
   "source": [
    "df['IkutProgramLOP'].value_counts()"
   ]
  },
  {
   "cell_type": "markdown",
   "id": "e2e2594d-039b-4d02-8fa5-ad826ae0c3c4",
   "metadata": {},
   "source": [
    "terlalu banyak null, fitur tidak dipakai"
   ]
  },
  {
   "cell_type": "code",
   "execution_count": 43,
   "id": "3d3804b9-0e4d-493f-96b2-75aca30448ac",
   "metadata": {},
   "outputs": [
    {
     "data": {
      "text/plain": [
       "-    66\n",
       "Name: TanggalResign, dtype: int64"
      ]
     },
     "execution_count": 43,
     "metadata": {},
     "output_type": "execute_result"
    }
   ],
   "source": [
    "nan_in_col  = df[df['AlasanResign'].isna()]\n",
    "is_resign = nan_in_col[['AlasanResign', 'TanggalResign']]\n",
    "is_resign['TanggalResign'].value_counts()"
   ]
  },
  {
   "cell_type": "markdown",
   "id": "ee6a1bbc-abf5-42ba-a3ce-bf601d65727f",
   "metadata": {},
   "source": [
    "null value pada AlasanResign memiliki null value pada TanggalResign -> asumsi bahwa karyawan masih bekerja"
   ]
  },
  {
   "cell_type": "code",
   "execution_count": 46,
   "id": "91b99715-ebc3-4663-b39f-bcdea6be4006",
   "metadata": {},
   "outputs": [
    {
     "data": {
      "text/html": [
       "<div>\n",
       "<style scoped>\n",
       "    .dataframe tbody tr th:only-of-type {\n",
       "        vertical-align: middle;\n",
       "    }\n",
       "\n",
       "    .dataframe tbody tr th {\n",
       "        vertical-align: top;\n",
       "    }\n",
       "\n",
       "    .dataframe thead th {\n",
       "        text-align: right;\n",
       "    }\n",
       "</style>\n",
       "<table border=\"1\" class=\"dataframe\">\n",
       "  <thead>\n",
       "    <tr style=\"text-align: right;\">\n",
       "      <th></th>\n",
       "      <th>27</th>\n",
       "      <th>124</th>\n",
       "      <th>147</th>\n",
       "      <th>203</th>\n",
       "    </tr>\n",
       "  </thead>\n",
       "  <tbody>\n",
       "    <tr>\n",
       "      <th>Username</th>\n",
       "      <td>pluckyApples4</td>\n",
       "      <td>dearKitten3</td>\n",
       "      <td>brainyLlama9</td>\n",
       "      <td>hushedBobolink8</td>\n",
       "    </tr>\n",
       "    <tr>\n",
       "      <th>EnterpriseID</th>\n",
       "      <td>110566</td>\n",
       "      <td>111266</td>\n",
       "      <td>100884</td>\n",
       "      <td>106392</td>\n",
       "    </tr>\n",
       "    <tr>\n",
       "      <th>StatusPernikahan</th>\n",
       "      <td>Menikah</td>\n",
       "      <td>Belum_menikah</td>\n",
       "      <td>Menikah</td>\n",
       "      <td>Menikah</td>\n",
       "    </tr>\n",
       "    <tr>\n",
       "      <th>JenisKelamin</th>\n",
       "      <td>Wanita</td>\n",
       "      <td>Pria</td>\n",
       "      <td>Wanita</td>\n",
       "      <td>Wanita</td>\n",
       "    </tr>\n",
       "    <tr>\n",
       "      <th>StatusKepegawaian</th>\n",
       "      <td>FullTime</td>\n",
       "      <td>FullTime</td>\n",
       "      <td>FullTime</td>\n",
       "      <td>FullTime</td>\n",
       "    </tr>\n",
       "    <tr>\n",
       "      <th>Pekerjaan</th>\n",
       "      <td>Software Engineer (Front End)</td>\n",
       "      <td>Product Design (UI &amp; UX)</td>\n",
       "      <td>Software Engineer (Front End)</td>\n",
       "      <td>Software Engineer (Back End)</td>\n",
       "    </tr>\n",
       "    <tr>\n",
       "      <th>JenjangKarir</th>\n",
       "      <td>Senior_level</td>\n",
       "      <td>Freshgraduate_program</td>\n",
       "      <td>Freshgraduate_program</td>\n",
       "      <td>Mid_level</td>\n",
       "    </tr>\n",
       "    <tr>\n",
       "      <th>PerformancePegawai</th>\n",
       "      <td>Biasa</td>\n",
       "      <td>Sangat_bagus</td>\n",
       "      <td>Sangat_bagus</td>\n",
       "      <td>Sangat_bagus</td>\n",
       "    </tr>\n",
       "    <tr>\n",
       "      <th>AsalDaerah</th>\n",
       "      <td>Jakarta Selatan</td>\n",
       "      <td>Jakarta Utara</td>\n",
       "      <td>Jakarta Timur</td>\n",
       "      <td>Jakarta Selatan</td>\n",
       "    </tr>\n",
       "    <tr>\n",
       "      <th>HiringPlatform</th>\n",
       "      <td>LinkedIn</td>\n",
       "      <td>Diversity_Job_Fair</td>\n",
       "      <td>LinkedIn</td>\n",
       "      <td>Website</td>\n",
       "    </tr>\n",
       "    <tr>\n",
       "      <th>SkorSurveyEngagement</th>\n",
       "      <td>3</td>\n",
       "      <td>3</td>\n",
       "      <td>3</td>\n",
       "      <td>3</td>\n",
       "    </tr>\n",
       "    <tr>\n",
       "      <th>SkorKepuasanPegawai</th>\n",
       "      <td>5.0</td>\n",
       "      <td>3.0</td>\n",
       "      <td>5.0</td>\n",
       "      <td>5.0</td>\n",
       "    </tr>\n",
       "    <tr>\n",
       "      <th>JumlahKeikutsertaanProjek</th>\n",
       "      <td>0.0</td>\n",
       "      <td>0.0</td>\n",
       "      <td>0.0</td>\n",
       "      <td>0.0</td>\n",
       "    </tr>\n",
       "    <tr>\n",
       "      <th>JumlahKeterlambatanSebulanTerakhir</th>\n",
       "      <td>0.0</td>\n",
       "      <td>0.0</td>\n",
       "      <td>0.0</td>\n",
       "      <td>0.0</td>\n",
       "    </tr>\n",
       "    <tr>\n",
       "      <th>JumlahKetidakhadiran</th>\n",
       "      <td>15.0</td>\n",
       "      <td>19.0</td>\n",
       "      <td>20.0</td>\n",
       "      <td>9.0</td>\n",
       "    </tr>\n",
       "    <tr>\n",
       "      <th>NomorHP</th>\n",
       "      <td>+6281988935xxx</td>\n",
       "      <td>+6289679074xxx</td>\n",
       "      <td>+6285503547xxx</td>\n",
       "      <td>+6285522082xxx</td>\n",
       "    </tr>\n",
       "    <tr>\n",
       "      <th>Email</th>\n",
       "      <td>pluckyApples4880@icloud.com</td>\n",
       "      <td>dearKitten3235@yahoo.com</td>\n",
       "      <td>brainyLlama9557@gmail.com</td>\n",
       "      <td>hushedBobolink8263@outlook.com</td>\n",
       "    </tr>\n",
       "    <tr>\n",
       "      <th>TingkatPendidikan</th>\n",
       "      <td>Sarjana</td>\n",
       "      <td>Sarjana</td>\n",
       "      <td>Sarjana</td>\n",
       "      <td>Sarjana</td>\n",
       "    </tr>\n",
       "    <tr>\n",
       "      <th>PernahBekerja</th>\n",
       "      <td>1</td>\n",
       "      <td>1</td>\n",
       "      <td>1</td>\n",
       "      <td>1</td>\n",
       "    </tr>\n",
       "    <tr>\n",
       "      <th>IkutProgramLOP</th>\n",
       "      <td>NaN</td>\n",
       "      <td>NaN</td>\n",
       "      <td>NaN</td>\n",
       "      <td>NaN</td>\n",
       "    </tr>\n",
       "    <tr>\n",
       "      <th>AlasanResign</th>\n",
       "      <td>Product Design (UI &amp; UX)</td>\n",
       "      <td>Product Design (UI &amp; UX)</td>\n",
       "      <td>Product Design (UI &amp; UX)</td>\n",
       "      <td>Product Design (UI &amp; UX)</td>\n",
       "    </tr>\n",
       "    <tr>\n",
       "      <th>TanggalLahir</th>\n",
       "      <td>1987-04-10</td>\n",
       "      <td>1989-05-02</td>\n",
       "      <td>1969-02-09</td>\n",
       "      <td>1988-08-29</td>\n",
       "    </tr>\n",
       "    <tr>\n",
       "      <th>TanggalHiring</th>\n",
       "      <td>2016-07-06</td>\n",
       "      <td>2011-9-26</td>\n",
       "      <td>2012-03-07</td>\n",
       "      <td>2012-01-09</td>\n",
       "    </tr>\n",
       "    <tr>\n",
       "      <th>TanggalPenilaianKaryawan</th>\n",
       "      <td>2020-1-28</td>\n",
       "      <td>2014-03-02</td>\n",
       "      <td>2014-02-01</td>\n",
       "      <td>2020-02-01</td>\n",
       "    </tr>\n",
       "    <tr>\n",
       "      <th>TanggalResign</th>\n",
       "      <td>2016-08-07</td>\n",
       "      <td>2017-12-15</td>\n",
       "      <td>2016-4-24</td>\n",
       "      <td>2018-04-01</td>\n",
       "    </tr>\n",
       "  </tbody>\n",
       "</table>\n",
       "</div>"
      ],
      "text/plain": [
       "                                                              27   \\\n",
       "Username                                            pluckyApples4   \n",
       "EnterpriseID                                               110566   \n",
       "StatusPernikahan                                          Menikah   \n",
       "JenisKelamin                                               Wanita   \n",
       "StatusKepegawaian                                        FullTime   \n",
       "Pekerjaan                           Software Engineer (Front End)   \n",
       "JenjangKarir                                         Senior_level   \n",
       "PerformancePegawai                                          Biasa   \n",
       "AsalDaerah                                        Jakarta Selatan   \n",
       "HiringPlatform                                           LinkedIn   \n",
       "SkorSurveyEngagement                                            3   \n",
       "SkorKepuasanPegawai                                           5.0   \n",
       "JumlahKeikutsertaanProjek                                     0.0   \n",
       "JumlahKeterlambatanSebulanTerakhir                            0.0   \n",
       "JumlahKetidakhadiran                                         15.0   \n",
       "NomorHP                                            +6281988935xxx   \n",
       "Email                                 pluckyApples4880@icloud.com   \n",
       "TingkatPendidikan                                         Sarjana   \n",
       "PernahBekerja                                                   1   \n",
       "IkutProgramLOP                                                NaN   \n",
       "AlasanResign                             Product Design (UI & UX)   \n",
       "TanggalLahir                                           1987-04-10   \n",
       "TanggalHiring                                          2016-07-06   \n",
       "TanggalPenilaianKaryawan                                2020-1-28   \n",
       "TanggalResign                                          2016-08-07   \n",
       "\n",
       "                                                         124  \\\n",
       "Username                                         dearKitten3   \n",
       "EnterpriseID                                          111266   \n",
       "StatusPernikahan                               Belum_menikah   \n",
       "JenisKelamin                                            Pria   \n",
       "StatusKepegawaian                                   FullTime   \n",
       "Pekerjaan                           Product Design (UI & UX)   \n",
       "JenjangKarir                           Freshgraduate_program   \n",
       "PerformancePegawai                              Sangat_bagus   \n",
       "AsalDaerah                                     Jakarta Utara   \n",
       "HiringPlatform                            Diversity_Job_Fair   \n",
       "SkorSurveyEngagement                                       3   \n",
       "SkorKepuasanPegawai                                      3.0   \n",
       "JumlahKeikutsertaanProjek                                0.0   \n",
       "JumlahKeterlambatanSebulanTerakhir                       0.0   \n",
       "JumlahKetidakhadiran                                    19.0   \n",
       "NomorHP                                       +6289679074xxx   \n",
       "Email                               dearKitten3235@yahoo.com   \n",
       "TingkatPendidikan                                    Sarjana   \n",
       "PernahBekerja                                              1   \n",
       "IkutProgramLOP                                           NaN   \n",
       "AlasanResign                        Product Design (UI & UX)   \n",
       "TanggalLahir                                      1989-05-02   \n",
       "TanggalHiring                                      2011-9-26   \n",
       "TanggalPenilaianKaryawan                          2014-03-02   \n",
       "TanggalResign                                     2017-12-15   \n",
       "\n",
       "                                                              147  \\\n",
       "Username                                             brainyLlama9   \n",
       "EnterpriseID                                               100884   \n",
       "StatusPernikahan                                          Menikah   \n",
       "JenisKelamin                                               Wanita   \n",
       "StatusKepegawaian                                        FullTime   \n",
       "Pekerjaan                           Software Engineer (Front End)   \n",
       "JenjangKarir                                Freshgraduate_program   \n",
       "PerformancePegawai                                   Sangat_bagus   \n",
       "AsalDaerah                                          Jakarta Timur   \n",
       "HiringPlatform                                           LinkedIn   \n",
       "SkorSurveyEngagement                                            3   \n",
       "SkorKepuasanPegawai                                           5.0   \n",
       "JumlahKeikutsertaanProjek                                     0.0   \n",
       "JumlahKeterlambatanSebulanTerakhir                            0.0   \n",
       "JumlahKetidakhadiran                                         20.0   \n",
       "NomorHP                                            +6285503547xxx   \n",
       "Email                                   brainyLlama9557@gmail.com   \n",
       "TingkatPendidikan                                         Sarjana   \n",
       "PernahBekerja                                                   1   \n",
       "IkutProgramLOP                                                NaN   \n",
       "AlasanResign                             Product Design (UI & UX)   \n",
       "TanggalLahir                                           1969-02-09   \n",
       "TanggalHiring                                          2012-03-07   \n",
       "TanggalPenilaianKaryawan                               2014-02-01   \n",
       "TanggalResign                                           2016-4-24   \n",
       "\n",
       "                                                               203  \n",
       "Username                                           hushedBobolink8  \n",
       "EnterpriseID                                                106392  \n",
       "StatusPernikahan                                           Menikah  \n",
       "JenisKelamin                                                Wanita  \n",
       "StatusKepegawaian                                         FullTime  \n",
       "Pekerjaan                             Software Engineer (Back End)  \n",
       "JenjangKarir                                             Mid_level  \n",
       "PerformancePegawai                                    Sangat_bagus  \n",
       "AsalDaerah                                         Jakarta Selatan  \n",
       "HiringPlatform                                             Website  \n",
       "SkorSurveyEngagement                                             3  \n",
       "SkorKepuasanPegawai                                            5.0  \n",
       "JumlahKeikutsertaanProjek                                      0.0  \n",
       "JumlahKeterlambatanSebulanTerakhir                             0.0  \n",
       "JumlahKetidakhadiran                                           9.0  \n",
       "NomorHP                                             +6285522082xxx  \n",
       "Email                               hushedBobolink8263@outlook.com  \n",
       "TingkatPendidikan                                          Sarjana  \n",
       "PernahBekerja                                                    1  \n",
       "IkutProgramLOP                                                 NaN  \n",
       "AlasanResign                              Product Design (UI & UX)  \n",
       "TanggalLahir                                            1988-08-29  \n",
       "TanggalHiring                                           2012-01-09  \n",
       "TanggalPenilaianKaryawan                                2020-02-01  \n",
       "TanggalResign                                           2018-04-01  "
      ]
     },
     "execution_count": 46,
     "metadata": {},
     "output_type": "execute_result"
    }
   ],
   "source": [
    "uiux_in_col  = df[df['AlasanResign'] == 'Product Design (UI & UX)']\n",
    "uiux_in_col.T"
   ]
  },
  {
   "cell_type": "code",
   "execution_count": 48,
   "id": "7c3c8993-0132-4d89-a50e-b1f7fc39c6c7",
   "metadata": {},
   "outputs": [
    {
     "data": {
      "text/plain": [
       "Software Engineer (Back End)      109\n",
       "Software Engineer (Front End)      72\n",
       "Software Engineer (Android)        24\n",
       "Product Design (UI & UX)           24\n",
       "Product Manager                    17\n",
       "Data Analyst                       16\n",
       "Data Engineer                      10\n",
       "Scrum Master                        3\n",
       "Software Engineer (iOS)             3\n",
       "DevOps Engineer                     3\n",
       "Digital Product Manager             2\n",
       "Machine Learning Engineer           2\n",
       "Product Design (UX Researcher)      1\n",
       "Software Architect                  1\n",
       "Name: Pekerjaan, dtype: int64"
      ]
     },
     "execution_count": 48,
     "metadata": {},
     "output_type": "execute_result"
    }
   ],
   "source": [
    "df['Pekerjaan'].value_counts()"
   ]
  },
  {
   "cell_type": "markdown",
   "id": "fca2b970-ab0a-440e-8f4d-a156f01459af",
   "metadata": {},
   "source": [
    "Value tersebut ambigu -> ganti ke 'lainnya'"
   ]
  },
  {
   "cell_type": "code",
   "execution_count": 60,
   "id": "67bcb058-c948-4821-befc-daeae7c68ff8",
   "metadata": {},
   "outputs": [
    {
     "data": {
      "text/plain": [
       "4.0     20\n",
       "2.0     20\n",
       "15.0    19\n",
       "7.0     17\n",
       "16.0    17\n",
       "6.0     16\n",
       "14.0    16\n",
       "3.0     16\n",
       "19.0    15\n",
       "13.0    15\n",
       "17.0    14\n",
       "1.0     14\n",
       "20.0    13\n",
       "9.0     12\n",
       "11.0    12\n",
       "10.0    10\n",
       "8.0     10\n",
       "5.0      9\n",
       "12.0     7\n",
       "18.0     7\n",
       "50.0     1\n",
       "55.0     1\n",
       "Name: JumlahKetidakhadiran, dtype: int64"
      ]
     },
     "execution_count": 60,
     "metadata": {},
     "output_type": "execute_result"
    }
   ],
   "source": [
    "df['JumlahKetidakhadiran'].value_counts()"
   ]
  },
  {
   "cell_type": "code",
   "execution_count": 57,
   "id": "64bd8182-666d-4e95-ad3c-4d72d0597230",
   "metadata": {},
   "outputs": [
    {
     "data": {
      "text/plain": [
       "3.0    96\n",
       "5.0    91\n",
       "4.0    85\n",
       "2.0     8\n",
       "1.0     2\n",
       "Name: SkorKepuasanPegawai, dtype: int64"
      ]
     },
     "execution_count": 57,
     "metadata": {},
     "output_type": "execute_result"
    }
   ],
   "source": [
    "df['SkorKepuasanPegawai'].value_counts()"
   ]
  },
  {
   "cell_type": "code",
   "execution_count": 59,
   "id": "389ad434-5f79-45b3-b745-e2d06d77acdc",
   "metadata": {},
   "outputs": [
    {
     "data": {
      "text/plain": [
       "0.0    221\n",
       "6.0     20\n",
       "5.0     20\n",
       "7.0      9\n",
       "4.0      8\n",
       "3.0      3\n",
       "1.0      1\n",
       "2.0      1\n",
       "8.0      1\n",
       "Name: JumlahKeikutsertaanProjek, dtype: int64"
      ]
     },
     "execution_count": 59,
     "metadata": {},
     "output_type": "execute_result"
    }
   ],
   "source": [
    "df['JumlahKeikutsertaanProjek'].value_counts()"
   ]
  },
  {
   "cell_type": "code",
   "execution_count": 61,
   "id": "3acf304e-e62a-4b30-9789-7c49c10e9993",
   "metadata": {},
   "outputs": [
    {
     "data": {
      "text/plain": [
       "0.0    255\n",
       "4.0      8\n",
       "3.0      6\n",
       "2.0      6\n",
       "5.0      5\n",
       "6.0      5\n",
       "1.0      1\n",
       "Name: JumlahKeterlambatanSebulanTerakhir, dtype: int64"
      ]
     },
     "execution_count": 61,
     "metadata": {},
     "output_type": "execute_result"
    }
   ],
   "source": [
    "df['JumlahKeterlambatanSebulanTerakhir'].value_counts()"
   ]
  },
  {
   "cell_type": "markdown",
   "id": "bb3b6e0d-e4ab-4d7e-abd7-447975e19f6a",
   "metadata": {},
   "source": [
    "### Check Inconsistency Values"
   ]
  },
  {
   "cell_type": "code",
   "execution_count": 24,
   "id": "c92faf77-6ce7-46e7-ab4f-fc3d09b56a48",
   "metadata": {},
   "outputs": [
    {
     "name": "stdout",
     "output_type": "stream",
     "text": [
      "StatusPernikahan\n",
      "Belum_menikah    132\n",
      "Menikah           57\n",
      "Lainnya           48\n",
      "Bercerai          47\n",
      "-                  3\n",
      "Name: StatusPernikahan, dtype: int64\n",
      "\n",
      "--------------------------------------------------\n",
      "JenisKelamin\n",
      "Wanita    167\n",
      "Pria      120\n",
      "Name: JenisKelamin, dtype: int64\n",
      "\n",
      "--------------------------------------------------\n",
      "StatusKepegawaian\n",
      "FullTime      217\n",
      "Outsource      66\n",
      "Internship      4\n",
      "Name: StatusKepegawaian, dtype: int64\n",
      "\n",
      "--------------------------------------------------\n",
      "Pekerjaan\n",
      "Software Engineer (Back End)      109\n",
      "Software Engineer (Front End)      72\n",
      "Software Engineer (Android)        24\n",
      "Product Design (UI & UX)           24\n",
      "Product Manager                    17\n",
      "Data Analyst                       16\n",
      "Data Engineer                      10\n",
      "Scrum Master                        3\n",
      "Software Engineer (iOS)             3\n",
      "DevOps Engineer                     3\n",
      "Digital Product Manager             2\n",
      "Machine Learning Engineer           2\n",
      "Product Design (UX Researcher)      1\n",
      "Software Architect                  1\n",
      "Name: Pekerjaan, dtype: int64\n",
      "\n",
      "--------------------------------------------------\n",
      "JenjangKarir\n",
      "Freshgraduate_program    169\n",
      "Mid_level                 70\n",
      "Senior_level              48\n",
      "Name: JenjangKarir, dtype: int64\n",
      "\n",
      "--------------------------------------------------\n",
      "PerformancePegawai\n",
      "Biasa            85\n",
      "Bagus            74\n",
      "Sangat_bagus     73\n",
      "Kurang           31\n",
      "Sangat_kurang    24\n",
      "Name: PerformancePegawai, dtype: int64\n",
      "\n",
      "--------------------------------------------------\n",
      "AsalDaerah\n",
      "Jakarta Pusat      72\n",
      "Jakarta Timur      63\n",
      "Jakarta Barat      55\n",
      "Jakarta Utara      52\n",
      "Jakarta Selatan    45\n",
      "Name: AsalDaerah, dtype: int64\n",
      "\n",
      "--------------------------------------------------\n",
      "HiringPlatform\n",
      "Indeed                     85\n",
      "LinkedIn                   69\n",
      "Google_Search              46\n",
      "Diversity_Job_Fair         27\n",
      "Employee_Referral          24\n",
      "CareerBuilder              22\n",
      "Website                    11\n",
      "Other                       2\n",
      "On-line_Web_application     1\n",
      "Name: HiringPlatform, dtype: int64\n",
      "\n",
      "--------------------------------------------------\n",
      "TingkatPendidikan\n",
      "Sarjana     176\n",
      "Magister     87\n",
      "Doktor       24\n",
      "Name: TingkatPendidikan, dtype: int64\n",
      "\n",
      "--------------------------------------------------\n",
      "PernahBekerja\n",
      "1      286\n",
      "yes      1\n",
      "Name: PernahBekerja, dtype: int64\n",
      "\n",
      "--------------------------------------------------\n",
      "AlasanResign\n",
      "masih_bekerja               132\n",
      "jam_kerja                    16\n",
      "ganti_karir                  14\n",
      "kejelasan_karir              11\n",
      "tidak_bisa_remote            11\n",
      "toxic_culture                10\n",
      "leadership                    9\n",
      "tidak_bahagia                 8\n",
      "internal_conflict             4\n",
      "Product Design (UI & UX)      4\n",
      "apresiasi                     2\n",
      "Name: AlasanResign, dtype: int64\n",
      "\n",
      "--------------------------------------------------\n"
     ]
    }
   ],
   "source": [
    "# melihat jumlah dan nilai unik kolom kategorikal\n",
    "\n",
    "feats = ['StatusPernikahan', 'JenisKelamin', 'StatusKepegawaian', 'Pekerjaan', 'JenjangKarir', 'PerformancePegawai', \n",
    "        'AsalDaerah', 'HiringPlatform', 'TingkatPendidikan', 'PernahBekerja', 'AlasanResign']\n",
    "\n",
    "for i in feats:\n",
    "    unique_values = df[i].value_counts()\n",
    "    print(f\"{i}\\n{unique_values}\\n\")\n",
    "    print('-'*50)"
   ]
  },
  {
   "cell_type": "code",
   "execution_count": null,
   "id": "599f0876-d6fb-45d7-b872-60ac7e2296bc",
   "metadata": {},
   "outputs": [],
   "source": []
  },
  {
   "cell_type": "markdown",
   "id": "73897a9e-6c2a-45d6-82f6-d12cd3082285",
   "metadata": {},
   "source": [
    "# **Cleaning Dataset**\n",
    "---"
   ]
  },
  {
   "cell_type": "markdown",
   "id": "cd77b14c-9847-4079-82cc-159d3abb715a",
   "metadata": {},
   "source": [
    "### Handling Null Values"
   ]
  },
  {
   "cell_type": "code",
   "execution_count": 25,
   "id": "84bd0ba8-026c-481c-8df9-371cccb5d1aa",
   "metadata": {},
   "outputs": [],
   "source": [
    "df_clean = df.copy()"
   ]
  },
  {
   "cell_type": "code",
   "execution_count": 26,
   "id": "5ac0b2fa-3319-486a-aa00-58c356c9afe9",
   "metadata": {},
   "outputs": [],
   "source": [
    "# PernahBekerja\n",
    "df_clean.drop(columns = 'PernahBekerja', inplace=True)\n",
    "\n",
    "# IkutProgramLOP\n",
    "df_clean.drop(columns = 'IkutProgramLOP', inplace=True)\n",
    "\n",
    "# AlasanResign \n",
    "df_clean['AlasanResign'].fillna('masih_bekerja', inplace=True)\n",
    "\n",
    "# JumlahKetidakhadiran \n",
    "df_clean['JumlahKetidakhadiran'].fillna(0, inplace=True)\n",
    "\n",
    "# JumlahKeikutsertaanProjek \n",
    "df_clean['JumlahKeikutsertaanProjek'].fillna(0, inplace=True)\n",
    "\n",
    "# JumlahKeterlambatanSebulanTerakhir \n",
    "df_clean['JumlahKeterlambatanSebulanTerakhir'].fillna(0, inplace=True)\n",
    "\n",
    "# SkorKepuasanPegawai \n",
    "df_clean['SkorKepuasanPegawai'].fillna(df_clean['SkorKepuasanPegawai'].median(), inplace=True)"
   ]
  },
  {
   "cell_type": "code",
   "execution_count": 27,
   "id": "63b8d607-f53c-4e54-98e8-2cf931a6f551",
   "metadata": {},
   "outputs": [
    {
     "data": {
      "text/plain": [
       "0"
      ]
     },
     "execution_count": 27,
     "metadata": {},
     "output_type": "execute_result"
    }
   ],
   "source": [
    "df_clean.isna().sum().sum()"
   ]
  },
  {
   "cell_type": "markdown",
   "id": "8a454cde-14b8-4445-92ac-f37f7881b3f5",
   "metadata": {},
   "source": [
    "### Handling Inconsistency Values"
   ]
  },
  {
   "cell_type": "code",
   "execution_count": 28,
   "id": "a060ea9f-42d2-44c2-840c-6798e5b7b76e",
   "metadata": {},
   "outputs": [],
   "source": [
    "# AlasanResign \n",
    "df_clean['AlasanResign'].replace(['Product Design (UI & UX)'], 'lainnya', inplace=True)\n",
    "\n",
    "# StatusPernikahan\n",
    "df_clean['StatusPernikahan'].replace(['-'], 'Lainnya', inplace=True)\n",
    "\n",
    "# HiringPlatform\n",
    "df_clean['HiringPlatform'].replace(['On-line_Web_application'], 'Website', inplace=True)"
   ]
  },
  {
   "cell_type": "code",
   "execution_count": 29,
   "id": "0f978354-040e-48e4-a9a8-8ce4a4e8454b",
   "metadata": {},
   "outputs": [
    {
     "data": {
      "text/plain": [
       "masih_bekerja        198\n",
       "jam_kerja             16\n",
       "ganti_karir           14\n",
       "kejelasan_karir       11\n",
       "tidak_bisa_remote     11\n",
       "toxic_culture         10\n",
       "leadership             9\n",
       "tidak_bahagia          8\n",
       "internal_conflict      4\n",
       "lainnya                4\n",
       "apresiasi              2\n",
       "Name: AlasanResign, dtype: int64"
      ]
     },
     "execution_count": 29,
     "metadata": {},
     "output_type": "execute_result"
    }
   ],
   "source": [
    "# cek value\n",
    "df_clean['AlasanResign'].value_counts()"
   ]
  },
  {
   "cell_type": "code",
   "execution_count": 30,
   "id": "9f730c5c-eae4-4b9a-b778-5e2ab7435c68",
   "metadata": {},
   "outputs": [
    {
     "data": {
      "text/plain": [
       "Belum_menikah    132\n",
       "Menikah           57\n",
       "Lainnya           51\n",
       "Bercerai          47\n",
       "Name: StatusPernikahan, dtype: int64"
      ]
     },
     "execution_count": 30,
     "metadata": {},
     "output_type": "execute_result"
    }
   ],
   "source": [
    "# cek value\n",
    "df_clean['StatusPernikahan'].value_counts()"
   ]
  },
  {
   "cell_type": "code",
   "execution_count": 31,
   "id": "c7cd7ad0-d90a-4dc9-b983-4530b456556e",
   "metadata": {},
   "outputs": [
    {
     "data": {
      "text/plain": [
       "Indeed                85\n",
       "LinkedIn              69\n",
       "Google_Search         46\n",
       "Diversity_Job_Fair    27\n",
       "Employee_Referral     24\n",
       "CareerBuilder         22\n",
       "Website               12\n",
       "Other                  2\n",
       "Name: HiringPlatform, dtype: int64"
      ]
     },
     "execution_count": 31,
     "metadata": {},
     "output_type": "execute_result"
    }
   ],
   "source": [
    "# cek value\n",
    "df_clean['HiringPlatform'].value_counts()"
   ]
  },
  {
   "cell_type": "markdown",
   "id": "cd4e08a7-1c0f-4372-b2ef-d18d7e60eed3",
   "metadata": {},
   "source": [
    "### Handling Datatype"
   ]
  },
  {
   "cell_type": "code",
   "execution_count": 32,
   "id": "48c401d1-fe44-4c2d-a202-8a2f752781de",
   "metadata": {},
   "outputs": [],
   "source": [
    "feats_int = ['JumlahKetidakhadiran', 'JumlahKeikutsertaanProjek', 'JumlahKeterlambatanSebulanTerakhir', 'SkorKepuasanPegawai']\n",
    "\n",
    "# convert to integer\n",
    "df_clean[feats_int] = df_clean[feats_int].astype('int64')"
   ]
  },
  {
   "cell_type": "code",
   "execution_count": 35,
   "id": "92c5bfb8-8953-4f8a-9480-3388920236a8",
   "metadata": {},
   "outputs": [
    {
     "name": "stdout",
     "output_type": "stream",
     "text": [
      "<class 'pandas.core.frame.DataFrame'>\n",
      "RangeIndex: 287 entries, 0 to 286\n",
      "Data columns (total 4 columns):\n",
      " #   Column                              Non-Null Count  Dtype\n",
      "---  ------                              --------------  -----\n",
      " 0   JumlahKetidakhadiran                287 non-null    int64\n",
      " 1   JumlahKeikutsertaanProjek           287 non-null    int64\n",
      " 2   JumlahKeterlambatanSebulanTerakhir  287 non-null    int64\n",
      " 3   SkorKepuasanPegawai                 287 non-null    int64\n",
      "dtypes: int64(4)\n",
      "memory usage: 9.1 KB\n"
     ]
    }
   ],
   "source": [
    "# cek\n",
    "df_clean[feats_int].info()"
   ]
  },
  {
   "cell_type": "code",
   "execution_count": 45,
   "id": "b66f65a6-99ed-459f-a6bd-b2a9463c06cc",
   "metadata": {},
   "outputs": [],
   "source": [
    "feats_dt = ['TanggalLahir', 'TanggalHiring', 'TanggalPenilaianKaryawan', 'TanggalResign']\n",
    "\n",
    "for i in feats_dt:\n",
    "    df_clean[i] = pd.to_datetime(df_clean[i], errors='coerce')"
   ]
  },
  {
   "cell_type": "code",
   "execution_count": 46,
   "id": "2a04e7d8-9790-4d4e-a528-f5abbe694042",
   "metadata": {},
   "outputs": [
    {
     "name": "stdout",
     "output_type": "stream",
     "text": [
      "<class 'pandas.core.frame.DataFrame'>\n",
      "RangeIndex: 287 entries, 0 to 286\n",
      "Data columns (total 4 columns):\n",
      " #   Column                    Non-Null Count  Dtype         \n",
      "---  ------                    --------------  -----         \n",
      " 0   TanggalLahir              287 non-null    datetime64[ns]\n",
      " 1   TanggalHiring             287 non-null    datetime64[ns]\n",
      " 2   TanggalPenilaianKaryawan  287 non-null    datetime64[ns]\n",
      " 3   TanggalResign             89 non-null     datetime64[ns]\n",
      "dtypes: datetime64[ns](4)\n",
      "memory usage: 9.1 KB\n"
     ]
    }
   ],
   "source": [
    "df_clean[feats_dt].info()"
   ]
  },
  {
   "cell_type": "markdown",
   "id": "545c543b-0cc4-479c-96f2-604070be2a48",
   "metadata": {},
   "source": [
    "### Additional"
   ]
  },
  {
   "cell_type": "code",
   "execution_count": 48,
   "id": "f73d92a1-7b9e-4235-bce7-8fa7ad35995e",
   "metadata": {},
   "outputs": [],
   "source": [
    "# convert TanggalLahir to Age fitur\n",
    "# create function for calculate age\n",
    "from datetime import date\n",
    "def calculate_age(birthdate):\n",
    "    today = date.today()\n",
    "    age = today.year-birthdate.year-((today.month, today.day) < (birthdate.month, birthdate.day))\n",
    "    return age\n",
    "\n",
    "# fit into dataframe\n",
    "df_clean['Age'] = df_clean['TanggalLahir'].apply(calculate_age)\n",
    "df_clean.drop(columns='TanggalLahir', inplace=True)"
   ]
  },
  {
   "cell_type": "code",
   "execution_count": 49,
   "id": "2f24688c-cf43-4538-9eb4-be167fea5de3",
   "metadata": {},
   "outputs": [],
   "source": [
    "# drop fitur konstanta\n",
    "df_clean.drop(columns = ['Username', 'EnterpriseID', 'NomorHP', 'Email'], inplace=True)"
   ]
  },
  {
   "cell_type": "code",
   "execution_count": 50,
   "id": "19f11a22-76df-43da-93eb-e1002bb32370",
   "metadata": {},
   "outputs": [
    {
     "name": "stdout",
     "output_type": "stream",
     "text": [
      "<class 'pandas.core.frame.DataFrame'>\n",
      "RangeIndex: 287 entries, 0 to 286\n",
      "Data columns (total 19 columns):\n",
      " #   Column                              Non-Null Count  Dtype         \n",
      "---  ------                              --------------  -----         \n",
      " 0   StatusPernikahan                    287 non-null    object        \n",
      " 1   JenisKelamin                        287 non-null    object        \n",
      " 2   StatusKepegawaian                   287 non-null    object        \n",
      " 3   Pekerjaan                           287 non-null    object        \n",
      " 4   JenjangKarir                        287 non-null    object        \n",
      " 5   PerformancePegawai                  287 non-null    object        \n",
      " 6   AsalDaerah                          287 non-null    object        \n",
      " 7   HiringPlatform                      287 non-null    object        \n",
      " 8   SkorSurveyEngagement                287 non-null    int64         \n",
      " 9   SkorKepuasanPegawai                 287 non-null    int64         \n",
      " 10  JumlahKeikutsertaanProjek           287 non-null    int64         \n",
      " 11  JumlahKeterlambatanSebulanTerakhir  287 non-null    int64         \n",
      " 12  JumlahKetidakhadiran                287 non-null    int64         \n",
      " 13  TingkatPendidikan                   287 non-null    object        \n",
      " 14  AlasanResign                        287 non-null    object        \n",
      " 15  TanggalHiring                       287 non-null    datetime64[ns]\n",
      " 16  TanggalPenilaianKaryawan            287 non-null    datetime64[ns]\n",
      " 17  TanggalResign                       89 non-null     datetime64[ns]\n",
      " 18  Age                                 287 non-null    int64         \n",
      "dtypes: datetime64[ns](3), int64(6), object(10)\n",
      "memory usage: 42.7+ KB\n"
     ]
    }
   ],
   "source": [
    "df_clean.info()"
   ]
  },
  {
   "cell_type": "markdown",
   "id": "6016a4ee-44e4-4aa9-95bf-764accf0b69f",
   "metadata": {},
   "source": [
    "# **EDA**\n",
    "---"
   ]
  },
  {
   "cell_type": "code",
   "execution_count": null,
   "id": "0a6f5e8e-422e-4dda-98fd-ffbd6e9ffcf2",
   "metadata": {},
   "outputs": [],
   "source": []
  }
 ],
 "metadata": {
  "kernelspec": {
   "display_name": "Python 3 (ipykernel)",
   "language": "python",
   "name": "python3"
  },
  "language_info": {
   "codemirror_mode": {
    "name": "ipython",
    "version": 3
   },
   "file_extension": ".py",
   "mimetype": "text/x-python",
   "name": "python",
   "nbconvert_exporter": "python",
   "pygments_lexer": "ipython3",
   "version": "3.9.15"
  }
 },
 "nbformat": 4,
 "nbformat_minor": 5
}
